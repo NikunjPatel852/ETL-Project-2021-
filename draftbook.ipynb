{
 "cells": [
  {
   "cell_type": "code",
   "execution_count": null,
   "source": [
    "import pandas as pd \r\n",
    "from sqlalchemy import create_engine\r\n",
    "import numpy as np\r\n",
    "%pylab inline"
   ],
   "outputs": [],
   "metadata": {}
  },
  {
   "cell_type": "code",
   "execution_count": null,
   "source": [
    "#Load the 120 years history file csv and print table\r\n",
    "athlete_events_to_read = \"Resources/athlete_events.csv\"\r\n",
    "athlete_events_data_df = pd.read_csv(athlete_events_to_read)\r\n",
    "athlete_events_data_df.head()"
   ],
   "outputs": [],
   "metadata": {}
  },
  {
   "cell_type": "code",
   "execution_count": null,
   "source": [
    "# Check the toal number of Nan values in the datset \r\n",
    "print(athlete_events_data_df.isnull().sum())"
   ],
   "outputs": [],
   "metadata": {}
  },
  {
   "cell_type": "code",
   "execution_count": null,
   "source": [
    "#Change the null values in the medals col to DWN this stands for DID NOT WIN\r\n",
    "change_DWN = athlete_events_data_df['Medal'].fillna('DNW', inplace=True)\r\n",
    "print(athlete_events_data_df.isnull().sum())"
   ],
   "outputs": [],
   "metadata": {}
  },
  {
   "cell_type": "code",
   "execution_count": null,
   "source": [
    "#Check the values for NOC vs Team drop any duplicates from the list. \r\n",
    "print(athlete_events_data_df.loc[:, ['NOC', 'Team']].drop_duplicates()['NOC'].value_counts().head())"
   ],
   "outputs": [],
   "metadata": {}
  },
  {
   "cell_type": "code",
   "execution_count": null,
   "source": [
    "# Read in the csv for NOC countrys. \r\n",
    "noc_to_read = \"./Resources/noc_regions.csv\"\r\n",
    "noc_data_df = pd.read_csv(noc_to_read)\r\n",
    "noc_data_df.head()"
   ],
   "outputs": [],
   "metadata": {}
  },
  {
   "cell_type": "code",
   "execution_count": null,
   "source": [
    "# Drop the notes col. \r\n",
    "noc_data_df.drop('notes', axis = 1 , inplace = True)\r\n",
    "noc_data_df\r\n",
    "noc_data_df.head()"
   ],
   "outputs": [],
   "metadata": {}
  },
  {
   "cell_type": "code",
   "execution_count": null,
   "source": [
    "# Merge both data sets togethere. \r\n",
    "athlete_events_merage = athlete_events_data_df.merge(noc_data_df,\r\n",
    "                                left_on = 'NOC',\r\n",
    "                                right_on = 'NOC',\r\n",
    "                                how = 'left')\r\n",
    "# Find and drop any Null values and duplicates.\r\n",
    "athlete_events_merage.loc[athlete_events_merage['region'].isnull(),['NOC', 'Team']].drop_duplicates()"
   ],
   "outputs": [],
   "metadata": {}
  },
  {
   "cell_type": "code",
   "execution_count": null,
   "source": [
    "# \r\n",
    "athlete_events_merage['region'] = np.where(athlete_events_merage['NOC']=='SGP', 'Singapore', athlete_events_merage['region'])\r\n",
    "athlete_events_merage['region'] = np.where(athlete_events_merage['NOC']=='ROT', 'Refugee Olympic Athletes', athlete_events_merage['region'])\r\n",
    "athlete_events_merage['region'] = np.where(athlete_events_merage['NOC']=='UNK', 'Unknown', athlete_events_merage['region'])\r\n",
    "athlete_events_merage['region'] = np.where(athlete_events_merage['NOC']=='TUV', 'Tuvalu', athlete_events_merage['region'])"
   ],
   "outputs": [],
   "metadata": {}
  },
  {
   "cell_type": "code",
   "execution_count": null,
   "source": [
    "athlete_events_merage.drop('Team', axis = 1, inplace = True)\r\n",
    "athlete_events_merage.rename(columns = {'region': 'Team'}, inplace = True)"
   ],
   "outputs": [],
   "metadata": {}
  },
  {
   "cell_type": "code",
   "execution_count": null,
   "source": [
    "athlete_events_merage.head(5)"
   ],
   "outputs": [],
   "metadata": {}
  },
  {
   "cell_type": "code",
   "execution_count": null,
   "source": [
    "w_gdp_to_read = \"Resources\\w_gdp.xls\"\r\n",
    "w_gdp_df = pd.read_excel(w_gdp_to_read)\r\n",
    "w_gdp_df.head()"
   ],
   "outputs": [],
   "metadata": {}
  },
  {
   "cell_type": "code",
   "execution_count": null,
   "source": [
    "drop_rows = w_gdp_df.drop([0,1])\r\n",
    "set_new_head = drop_rows.rename(columns=drop_rows.iloc[0]).drop(drop_rows.index[0])\r\n",
    "reset_index = set_new_head.reset_index()\r\n",
    "w_gdp_df = reset_index.drop(columns=['index'])\r\n"
   ],
   "outputs": [],
   "metadata": {}
  },
  {
   "cell_type": "code",
   "execution_count": null,
   "source": [
    "w_gdp_df.drop(['Indicator Name', 'Indicator Code'], axis = 1, inplace = True)\r\n",
    "w_gdp_df = pd.melt(w_gdp_df, id_vars = ['Country Name', 'Country Code'], var_name = 'Year', value_name = 'GDP')\r\n",
    "w_gdp_df['Year'] = pd.to_numeric(w_gdp_df['Year'])\r\n",
    "w_gdp_df.head()"
   ],
   "outputs": [],
   "metadata": {}
  },
  {
   "cell_type": "code",
   "execution_count": null,
   "source": [
    "len(list(set(athlete_events_merage['NOC'].unique()) - set(w_gdp_df['Country Code'].unique())))"
   ],
   "outputs": [],
   "metadata": {}
  },
  {
   "cell_type": "code",
   "execution_count": null,
   "source": [
    "len(list(set(athlete_events_merage['Team'].unique()) - set(w_gdp_df['Country Name'].unique())))"
   ],
   "outputs": [],
   "metadata": {}
  },
  {
   "cell_type": "code",
   "execution_count": null,
   "source": [
    "athlete_events_ccode = athlete_events_merage.merge(w_gdp_df[['Country Name', 'Country Code']].drop_duplicates(),\r\n",
    "                                            left_on = 'Team',\r\n",
    "                                            right_on = 'Country Name',\r\n",
    "                                            how = 'left')\r\n",
    "\r\n",
    "athlete_events_ccode.drop('Country Name', axis = 1, inplace = True)\r\n",
    "athlete_merge_gdp = athlete_events_ccode.merge(w_gdp_df,\r\n",
    "                                                left_on = ['Country Code', 'Year'],\r\n",
    "                                                right_on = ['Country Code', 'Year'],\r\n",
    "                                                how = 'left')\r\n",
    "\r\n",
    "athlete_merge_gdp.drop('Country Name', axis = 1, inplace = True)\r\n",
    "athlete_merge_gdp.head(5)"
   ],
   "outputs": [],
   "metadata": {}
  },
  {
   "cell_type": "code",
   "execution_count": null,
   "source": [
    "world_pop_to_read = \"Resources\\WorldPopulation.csv\"\r\n",
    "world_pop_df = pd.read_csv(world_pop_to_read)\r\n",
    "world_pop_df.head()"
   ],
   "outputs": [],
   "metadata": {}
  },
  {
   "cell_type": "code",
   "execution_count": null,
   "source": [
    "world_pop_df.drop(['Indicator Name', 'Indicator Code','Unnamed: 61'], axis = 1, inplace = True)\r\n",
    "\r\n",
    "world_pop_df = pd.melt(world_pop_df, id_vars = ['Country', 'Country Code'], var_name = 'Year', value_name = 'Population')\r\n",
    "\r\n",
    "# Change the Year to integer type\r\n",
    "world_pop_df['Year'] = pd.to_numeric(world_pop_df['Year'])\r\n",
    "\r\n",
    "world_pop_df.head()"
   ],
   "outputs": [],
   "metadata": {}
  },
  {
   "cell_type": "code",
   "execution_count": null,
   "source": [
    "complete_df = athlete_merge_gdp.merge(world_pop_df,\r\n",
    "                                            left_on = ['Country Code', 'Year'],\r\n",
    "                                            right_on= ['Country Code', 'Year'],\r\n",
    "                                            how = 'left')\r\n",
    "\r\n",
    "complete_df.drop('Country', axis = 1, inplace = True)\r\n",
    "\r\n",
    "complete_df.head()"
   ],
   "outputs": [],
   "metadata": {}
  },
  {
   "cell_type": "code",
   "execution_count": null,
   "source": [
    "complete_df.isnull().sum()"
   ],
   "outputs": [],
   "metadata": {}
  }
 ],
 "metadata": {
  "orig_nbformat": 4,
  "language_info": {
   "name": "python",
   "version": "3.8.5",
   "mimetype": "text/x-python",
   "codemirror_mode": {
    "name": "ipython",
    "version": 3
   },
   "pygments_lexer": "ipython3",
   "nbconvert_exporter": "python",
   "file_extension": ".py"
  },
  "kernelspec": {
   "name": "python3",
   "display_name": "Python 3.8.5 64-bit ('base': conda)"
  },
  "interpreter": {
   "hash": "44f552b7dcb52bdbe1465ff40af8423e5e341aff9e1890574e0400d00cd728be"
  }
 },
 "nbformat": 4,
 "nbformat_minor": 2
}